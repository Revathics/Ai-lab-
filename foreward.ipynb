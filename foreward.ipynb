{
 "cells": [
  {
   "cell_type": "code",
   "execution_count": 1,
   "id": "c79ab6e7-a805-44b1-9dad-1246b8b00bb0",
   "metadata": {},
   "outputs": [
    {
     "name": "stdout",
     "output_type": "stream",
     "text": [
      "Inferred Facts are:\n",
      "[['vertebrate', 'duck'], ['flying', 'duck'], ['mammal', 'cat'], ['animal', 'duck'], ['bird', 'duck'], ['vertebrate', 'cat'], ['animal', 'cat']]\n"
     ]
    }
   ],
   "source": [
    "global facts\n",
    "global is_changed\n",
    "\n",
    "is_changed = True\n",
    "facts = [[\"vertebrate\", \"duck\"], [\"flying\", \"duck\"], [\"mammal\", \"cat\"]]\n",
    "\n",
    "def assert_fact(fact):\n",
    "    global facts\n",
    "    global is_changed\n",
    "\n",
    "    if fact not in facts:\n",
    "        facts.append(fact)\n",
    "        is_changed = True\n",
    "\n",
    "while is_changed:\n",
    "    is_changed = False\n",
    "    for A1 in facts:\n",
    "        if A1[0] == \"mammal\":\n",
    "            assert_fact([\"vertebrate\", A1[1]])\n",
    "        if A1[0] == \"vertebrate\":\n",
    "            assert_fact([\"animal\", A1[1]])\n",
    "        if A1[0] == \"vertebrate\" and [\"flying\", A1[1]] in facts:\n",
    "            assert_fact([\"bird\", A1[1]])\n",
    "\n",
    "print(\"Inferred Facts are:\")\n",
    "print(facts)\n"
   ]
  },
  {
   "cell_type": "code",
   "execution_count": null,
   "id": "78cf1ef7-73f6-446b-92ea-b6557c350c76",
   "metadata": {},
   "outputs": [],
   "source": []
  }
 ],
 "metadata": {
  "kernelspec": {
   "display_name": "Python [conda env:base] *",
   "language": "python",
   "name": "conda-base-py"
  },
  "language_info": {
   "codemirror_mode": {
    "name": "ipython",
    "version": 3
   },
   "file_extension": ".py",
   "mimetype": "text/x-python",
   "name": "python",
   "nbconvert_exporter": "python",
   "pygments_lexer": "ipython3",
   "version": "3.12.7"
  }
 },
 "nbformat": 4,
 "nbformat_minor": 5
}
