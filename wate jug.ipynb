{
 "cells": [
  {
   "cell_type": "code",
   "execution_count": 1,
   "id": "1637c005-45d5-4164-a5fb-87e64f8272d5",
   "metadata": {},
   "outputs": [
    {
     "name": "stdout",
     "output_type": "stream",
     "text": [
      "Path from initial state to solution state ::\n",
      "(0, 0)\n",
      "(0, 3)\n",
      "(4, 0)\n",
      "(4, 3)\n",
      "(3, 0)\n",
      "(1, 3)\n",
      "(3, 3)\n",
      "(1, 0)\n",
      "(4, 2)\n",
      "(0, 2)\n"
     ]
    }
   ],
   "source": [
    "from collections import deque\n",
    "\n",
    "def Solution(a, b, target):\n",
    "    m = {}\n",
    "    isSolvable = False\n",
    "    path = []\n",
    "    \n",
    "    q = deque()\n",
    "    \n",
    "    # Initial state with both jugs empty\n",
    "    q.append((0, 0))\n",
    "\n",
    "    while len(q) > 0:\n",
    "        # Current state\n",
    "        u = q.popleft()\n",
    "\n",
    "        # If this state has already been visited, skip it\n",
    "        if (u[0], u[1]) in m:\n",
    "            continue\n",
    "        \n",
    "        # If out of bounds, skip\n",
    "        if u[0] > a or u[1] > b or u[0] < 0 or u[1] < 0:\n",
    "            continue\n",
    "        \n",
    "        # Record the path\n",
    "        path.append([u[0], u[1]])\n",
    "\n",
    "        # Mark state as visited\n",
    "        m[(u[0], u[1])] = 1\n",
    "\n",
    "        # Check if we reached the target\n",
    "        if u[0] == target or u[1] == target:\n",
    "            isSolvable = True\n",
    "            # Add final state if necessary\n",
    "            if u[0] == target and u[1] != 0:\n",
    "                path.append([u[0], 0])\n",
    "            elif u[1] == target and u[0] != 0:\n",
    "                path.append([0, u[1]])\n",
    "\n",
    "            # Print the path\n",
    "            for p in path:\n",
    "                print(f\"({p[0]}, {p[1]})\")\n",
    "            return  # Exit function after printing the solution\n",
    "\n",
    "        # Try all possible moves:\n",
    "        q.append((u[0], b))  # Fill Jug2\n",
    "        q.append((a, u[1]))  # Fill Jug1\n",
    "        q.append((0, u[1]))  # Empty Jug1\n",
    "        q.append((u[0], 0))  # Empty Jug2\n",
    "\n",
    "        # Pour water from Jug1 to Jug2\n",
    "        pour = min(u[0], b - u[1])  # Amount to pour\n",
    "        q.append((u[0] - pour, u[1] + pour))\n",
    "\n",
    "        # Pour water from Jug2 to Jug1\n",
    "        pour = min(u[1], a - u[0])  # Amount to pour\n",
    "        q.append((u[0] + pour, u[1] - pour))\n",
    "\n",
    "    # If we exhaust the queue without finding a solution\n",
    "    if not isSolvable:\n",
    "        print(\"Solution not possible\")\n",
    "\n",
    "if __name__ == '__main__':\n",
    "    Jug1, Jug2, target = 4, 3, 2\n",
    "    print(\"Path from initial state to solution state ::\")\n",
    "    Solution(Jug1, Jug2, target)\n"
   ]
  },
  {
   "cell_type": "code",
   "execution_count": null,
   "id": "edc4232c-defe-46a3-bbc4-e47963322f7c",
   "metadata": {},
   "outputs": [],
   "source": []
  }
 ],
 "metadata": {
  "kernelspec": {
   "display_name": "Python [conda env:base] *",
   "language": "python",
   "name": "conda-base-py"
  },
  "language_info": {
   "codemirror_mode": {
    "name": "ipython",
    "version": 3
   },
   "file_extension": ".py",
   "mimetype": "text/x-python",
   "name": "python",
   "nbconvert_exporter": "python",
   "pygments_lexer": "ipython3",
   "version": "3.12.7"
  }
 },
 "nbformat": 4,
 "nbformat_minor": 5
}
