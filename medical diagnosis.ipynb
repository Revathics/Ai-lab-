{
 "cells": [
  {
   "cell_type": "code",
   "execution_count": 1,
   "id": "11d188ed-e566-4e03-b144-105f92a07dfb",
   "metadata": {},
   "outputs": [
    {
     "name": "stdout",
     "output_type": "stream",
     "text": [
      "Enter symptoms one by one (press Enter after each symptom). Type 'done' when finished.\n"
     ]
    },
    {
     "name": "stdin",
     "output_type": "stream",
     "text": [
      "Symptom:  joint pain\n",
      "Symptom:  fatigue\n",
      "Symptom:  done\n"
     ]
    },
    {
     "name": "stdout",
     "output_type": "stream",
     "text": [
      "These symptoms may be related to arthritis. Consider gentle exercises, hot/cold therapy, and over-the-counter pain relievers. Consult with a rheumatologist for evaluation.\n"
     ]
    }
   ],
   "source": [
    "class SymptomChecker:\n",
    "    def __init__(self):\n",
    "        self.symptoms = set()\n",
    "\n",
    "    def add_symptom(self, symptom):\n",
    "        self.symptoms.add(symptom)\n",
    "\n",
    "    def diagnose(self):\n",
    "        # Rule-based diagnosis\n",
    "\n",
    "        if 'fever' in self.symptoms and 'cough' in self.symptoms:\n",
    "            return (\"You may have a respiratory infection. \"\n",
    "                    \"Common treatments include rest and staying hydrated. \"\n",
    "                    \"If symptoms persist, consult a healthcare professional.\")\n",
    "\n",
    "        elif 'headache' in self.symptoms and 'nausea' in self.symptoms:\n",
    "            return (\"You might be experiencing migraines. \"\n",
    "                    \"Consider managing stress, maintaining a regular sleep \"\n",
    "                    \"schedule, and keeping a headache diary. \"\n",
    "                    \"Consult a doctor for further evaluation.\")\n",
    "\n",
    "        elif 'chest pain' in self.symptoms and 'shortness of breath' in self.symptoms:\n",
    "            return (\"You could be at risk of a heart-related issue. \"\n",
    "                    \"Seek immediate medical attention. Avoid strenuous activities \"\n",
    "                    \"and consult a cardiologist for further evaluation.\")\n",
    "\n",
    "        elif 'abdominal pain' in self.symptoms and 'vomiting' in self.symptoms:\n",
    "            return (\"These symptoms may indicate a gastrointestinal problem. \"\n",
    "                    \"Avoid spicy and fatty foods, and stay hydrated. \"\n",
    "                    \"If symptoms persist, consult a gastroenterologist for proper diagnosis.\")\n",
    "\n",
    "        elif 'joint pain' in self.symptoms and 'fatigue' in self.symptoms:\n",
    "            return (\"These symptoms may be related to arthritis. \"\n",
    "                    \"Consider gentle exercises, hot/cold therapy, \"\n",
    "                    \"and over-the-counter pain relievers. \"\n",
    "                    \"Consult with a rheumatologist for evaluation.\")\n",
    "\n",
    "        elif 'skin rash' in self.symptoms and 'itching' in self.symptoms:\n",
    "            return (\"These symptoms may be indicative of an allergic reaction or skin condition. \"\n",
    "                    \"Avoid known allergens and use over-the-counter creams for relief. \"\n",
    "                    \"Consult a dermatologist for further evaluation.\")\n",
    "\n",
    "        elif 'frequent urination' in self.symptoms and 'thirst' in self.symptoms:\n",
    "            return (\"You may have symptoms of diabetes. \"\n",
    "                    \"Monitor your blood sugar levels, maintain a healthy diet, \"\n",
    "                    \"and stay hydrated. Consult a healthcare professional \"\n",
    "                    \"for a blood sugar test and further guidance.\")\n",
    "\n",
    "        elif 'confusion' in self.symptoms and 'memory loss' in self.symptoms:\n",
    "            return (\"These symptoms could be signs of neurological issues. \"\n",
    "                    \"Ensure a healthy diet, exercise regularly, and get enough sleep. \"\n",
    "                    \"Consult a neurologist for further evaluation and advice.\")\n",
    "\n",
    "        elif 'muscle weakness' in self.symptoms and 'fatigue' in self.symptoms:\n",
    "            return (\"Muscle weakness and fatigue may be related to various conditions, \"\n",
    "                    \"including autoimmune disorders. Get adequate rest, maintain a balanced diet, \"\n",
    "                    \"and consult a doctor for proper diagnosis and treatment.\")\n",
    "\n",
    "        else:\n",
    "            return (\"Not enough information for diagnosis. \"\n",
    "                    \"Please consult a healthcare professional for a thorough evaluation.\")\n",
    "\n",
    "\n",
    "# Example usage with extended rules and symptoms\n",
    "if __name__ == \"__main__\":\n",
    "    expert_system = SymptomChecker()\n",
    "\n",
    "    # Get user input for symptoms\n",
    "    print(\"Enter symptoms one by one (press Enter after each symptom). Type 'done' when finished.\")\n",
    "\n",
    "    while True:\n",
    "        symptom = input(\"Symptom: \").lower()\n",
    "        if symptom == 'done':\n",
    "            break\n",
    "        expert_system.add_symptom(symptom)\n",
    "\n",
    "    # Get diagnosis\n",
    "    result = expert_system.diagnose()\n",
    "\n",
    "    # Display the result\n",
    "    print(result)\n"
   ]
  },
  {
   "cell_type": "code",
   "execution_count": null,
   "id": "d0002b99-1acc-4d01-bd91-26f53e6fa429",
   "metadata": {},
   "outputs": [],
   "source": []
  }
 ],
 "metadata": {
  "kernelspec": {
   "display_name": "Python [conda env:base] *",
   "language": "python",
   "name": "conda-base-py"
  },
  "language_info": {
   "codemirror_mode": {
    "name": "ipython",
    "version": 3
   },
   "file_extension": ".py",
   "mimetype": "text/x-python",
   "name": "python",
   "nbconvert_exporter": "python",
   "pygments_lexer": "ipython3",
   "version": "3.12.7"
  }
 },
 "nbformat": 4,
 "nbformat_minor": 5
}
