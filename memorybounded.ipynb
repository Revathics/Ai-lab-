{
 "cells": [
  {
   "cell_type": "code",
   "execution_count": 1,
   "id": "7b95ba59-822c-4311-97ed-89f833fa37ff",
   "metadata": {},
   "outputs": [
    {
     "name": "stdout",
     "output_type": "stream",
     "text": [
      "Path found: ['A', 'F', 'G', 'I', 'J']\n"
     ]
    },
    {
     "data": {
      "text/plain": [
       "['A', 'F', 'G', 'I', 'J']"
      ]
     },
     "execution_count": 1,
     "metadata": {},
     "output_type": "execute_result"
    }
   ],
   "source": [
    "import heapq\n",
    "\n",
    "def heuristic(n):\n",
    "    \"\"\"Heuristic function for A* search.\"\"\"\n",
    "    H_dist = {\n",
    "        'A': 11, 'B': 6, 'C': 5, 'D': 7, 'E': 3,\n",
    "        'F': 6, 'G': 5, 'H': 3, 'I': 1, 'J': 0\n",
    "    }\n",
    "    return H_dist.get(n, float('inf'))  # Return high value if not found\n",
    "\n",
    "def get_neighbors(node):\n",
    "    \"\"\"Returns neighbors of a node in the graph.\"\"\"\n",
    "    return Graph_nodes.get(node, [])\n",
    "\n",
    "def memory_bounded_a_star(start_node, stop_node, memory_limit):\n",
    "    \"\"\"Memory Bounded A* Algorithm\"\"\"\n",
    "    open_set = []\n",
    "    closed_set = set()\n",
    "    g = {start_node: 0}\n",
    "    parents = {start_node: start_node}\n",
    "\n",
    "    # f(n) = g(n) + h(n)\n",
    "    f_cost = {start_node: g[start_node] + heuristic(start_node)}\n",
    "\n",
    "    heapq.heappush(open_set, (f_cost[start_node], start_node))\n",
    "\n",
    "    while open_set:\n",
    "        # Pop the node with the lowest f-cost\n",
    "        _, n = heapq.heappop(open_set)\n",
    "\n",
    "        # Goal check\n",
    "        if n == stop_node:\n",
    "            path = []\n",
    "            while parents[n] != n:\n",
    "                path.append(n)\n",
    "                n = parents[n]\n",
    "            path.append(start_node)\n",
    "            path.reverse()\n",
    "            print('Path found:', path)\n",
    "            return path\n",
    "\n",
    "        closed_set.add(n)\n",
    "\n",
    "        # Explore neighbors\n",
    "        for (m, weight) in get_neighbors(n):\n",
    "            if m in closed_set:\n",
    "                continue  # Skip already visited nodes\n",
    "\n",
    "            new_g = g[n] + weight\n",
    "\n",
    "            if m not in g or new_g < g[m]:\n",
    "                g[m] = new_g\n",
    "                parents[m] = n\n",
    "\n",
    "                # Ensure f-cost is within the memory limit\n",
    "                f_cost[m] = g[m] + heuristic(m)\n",
    "\n",
    "                if f_cost[m] <= memory_limit:\n",
    "                    heapq.heappush(open_set, (f_cost[m], m))\n",
    "\n",
    "    print('Path does not exist within the memory limit.')\n",
    "    return None\n",
    "\n",
    "# Define the graph structure\n",
    "Graph_nodes = {\n",
    "    'A': [('B', 6), ('F', 3)],\n",
    "    'B': [('A', 6), ('C', 3), ('D', 2)],\n",
    "    'C': [('B', 3), ('D', 1), ('E', 5)],\n",
    "    'D': [('B', 2), ('C', 1), ('E', 8)],\n",
    "    'E': [('C', 5), ('D', 8), ('I', 5), ('J', 5)],\n",
    "    'F': [('A', 3), ('G', 1), ('H', 7)],\n",
    "    'G': [('F', 1), ('I', 3)],\n",
    "    'H': [('F', 7), ('I', 2)],\n",
    "    'I': [('E', 5), ('G', 3), ('H', 2), ('J', 3)],\n",
    "}\n",
    "\n",
    "# Run the Memory-Bounded A* algorithm\n",
    "memory_bounded_a_star('A', 'J', memory_limit=20)\n"
   ]
  },
  {
   "cell_type": "code",
   "execution_count": null,
   "id": "f445d297-3812-476d-8f2c-32b143948c17",
   "metadata": {},
   "outputs": [],
   "source": []
  }
 ],
 "metadata": {
  "kernelspec": {
   "display_name": "Python [conda env:base] *",
   "language": "python",
   "name": "conda-base-py"
  },
  "language_info": {
   "codemirror_mode": {
    "name": "ipython",
    "version": 3
   },
   "file_extension": ".py",
   "mimetype": "text/x-python",
   "name": "python",
   "nbconvert_exporter": "python",
   "pygments_lexer": "ipython3",
   "version": "3.12.7"
  }
 },
 "nbformat": 4,
 "nbformat_minor": 5
}
