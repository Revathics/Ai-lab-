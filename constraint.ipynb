{
 "cells": [
  {
   "cell_type": "code",
   "execution_count": null,
   "id": "e26911d5-e1e1-40f0-b414-b6a6a6efdfe7",
   "metadata": {},
   "outputs": [],
   "source": [
    "# Install in cmd:\n",
    "# pip install python-constraint\n",
    "\n",
    "from constraint import Problem, AllDifferentConstraint\n",
    "\n",
    "def constraint_function(variables, domains, assignments):\n",
    "    # Define your constraints here\n",
    "    # Example: variables[0] + variables[1] == variables[2]\n",
    "    return True\n",
    "\n",
    "def main():\n",
    "    # Create a problem instance\n",
    "    problem = Problem()\n",
    "\n",
    "    # Add variables to the problem\n",
    "    problem.addVariable('a', range(1, 5))\n",
    "    problem.addVariable('b', range(2, 4))\n",
    "    problem.addVariable('c', range(1, 3))\n",
    "\n",
    "    # Add a constraint function to the problem\n",
    "    problem.addConstraint(constraint_function, ['a', 'b', 'c'])\n",
    "\n",
    "    # Optionally, add an \"All Different\" constraint\n",
    "    problem.addConstraint(AllDifferentConstraint(), ['a', 'b', 'c'])\n",
    "\n",
    "    # Solve the problem\n",
    "    solutions = problem.getSolutions()\n",
    "\n",
    "    # Print the solutions\n",
    "    for solution in solutions:\n",
    "        print(solution)\n",
    "\n",
    "if __name__ == \"__main__\":\n",
    "    main()\n"
   ]
  }
 ],
 "metadata": {
  "kernelspec": {
   "display_name": "Python [conda env:base] *",
   "language": "python",
   "name": "conda-base-py"
  },
  "language_info": {
   "codemirror_mode": {
    "name": "ipython",
    "version": 3
   },
   "file_extension": ".py",
   "mimetype": "text/x-python",
   "name": "python",
   "nbconvert_exporter": "python",
   "pygments_lexer": "ipython3",
   "version": "3.12.7"
  }
 },
 "nbformat": 4,
 "nbformat_minor": 5
}
