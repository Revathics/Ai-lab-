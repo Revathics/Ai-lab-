{
 "cells": [
  {
   "cell_type": "code",
   "execution_count": 1,
   "id": "e44e7b51-4d36-4574-9f28-1f14d80b0a96",
   "metadata": {},
   "outputs": [
    {
     "name": "stdout",
     "output_type": "stream",
     "text": [
      "Path found: ['A', 'F', 'G', 'I', 'J']\n"
     ]
    },
    {
     "data": {
      "text/plain": [
       "['A', 'F', 'G', 'I', 'J']"
      ]
     },
     "execution_count": 1,
     "metadata": {},
     "output_type": "execute_result"
    }
   ],
   "source": [
    "def aStarAlgo(start_node, stop_node):\n",
    "    open_set = {start_node}  # Nodes to explore\n",
    "    closed_set = set()  # Explored nodes\n",
    "    g = {start_node: 0}  # Cost from start to node\n",
    "    parents = {start_node: start_node}  # Parent tracking for path\n",
    "\n",
    "    while open_set:\n",
    "        # Get the node with the lowest f(n) = g(n) + h(n)\n",
    "        n = min(open_set, key=lambda x: g[x] + heuristic(x))\n",
    "\n",
    "        # If we reach the goal, reconstruct and return the path\n",
    "        if n == stop_node:\n",
    "            path = []\n",
    "            while parents[n] != n:\n",
    "                path.append(n)\n",
    "                n = parents[n]\n",
    "            path.append(start_node)\n",
    "            path.reverse()\n",
    "            print('Path found:', path)\n",
    "            return path\n",
    "\n",
    "        open_set.remove(n)\n",
    "        closed_set.add(n)\n",
    "\n",
    "        for (m, weight) in get_neighbors(n):\n",
    "            if m in closed_set:\n",
    "                continue  # Skip already evaluated nodes\n",
    "\n",
    "            tentative_g = g[n] + weight  # New cost to reach m\n",
    "\n",
    "            if m not in open_set or tentative_g < g.get(m, float('inf')):\n",
    "                parents[m] = n\n",
    "                g[m] = tentative_g\n",
    "                open_set.add(m)  # Ensure it's in the open set\n",
    "\n",
    "    print('Path does not exist!')\n",
    "    return None\n",
    "\n",
    "def get_neighbors(v):\n",
    "    return Graph_nodes.get(v, [])\n",
    "\n",
    "def heuristic(n):\n",
    "    \"\"\"Estimated cost from n to goal (heuristic function).\"\"\"\n",
    "    H_dist = {\n",
    "        'A': 11, 'B': 6, 'C': 5, 'D': 7, 'E': 3, 'F': 6, 'G': 5,\n",
    "        'H': 3, 'I': 1, 'J': 0\n",
    "    }\n",
    "    return H_dist.get(n, float('inf'))  # Return a large value if not found\n",
    "\n",
    "Graph_nodes = {\n",
    "    'A': [('B', 6), ('F', 3)],\n",
    "    'B': [('A', 6), ('C', 3), ('D', 2)],\n",
    "    'C': [('B', 3), ('D', 1), ('E', 5)],\n",
    "    'D': [('B', 2), ('C', 1), ('E', 8)],\n",
    "    'E': [('C', 5), ('D', 8), ('I', 5), ('J', 5)],\n",
    "    'F': [('A', 3), ('G', 1), ('H', 7)],\n",
    "    'G': [('F', 1), ('I', 3)],\n",
    "    'H': [('F', 7), ('I', 2)],\n",
    "    'I': [('E', 5), ('G', 3), ('H', 2), ('J', 3)],\n",
    "    'J': []  # The goal node with no outgoing edges\n",
    "}\n",
    "\n",
    "# Run A* Search from A to J\n",
    "aStarAlgo('A', 'J')\n"
   ]
  },
  {
   "cell_type": "code",
   "execution_count": null,
   "id": "28c5f9bb-a650-41c9-aa82-64fa7038fe9d",
   "metadata": {},
   "outputs": [],
   "source": []
  }
 ],
 "metadata": {
  "kernelspec": {
   "display_name": "Python [conda env:base] *",
   "language": "python",
   "name": "conda-base-py"
  },
  "language_info": {
   "codemirror_mode": {
    "name": "ipython",
    "version": 3
   },
   "file_extension": ".py",
   "mimetype": "text/x-python",
   "name": "python",
   "nbconvert_exporter": "python",
   "pygments_lexer": "ipython3",
   "version": "3.12.7"
  }
 },
 "nbformat": 4,
 "nbformat_minor": 5
}
